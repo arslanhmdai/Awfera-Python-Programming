{
 "cells": [
  {
   "cell_type": "markdown",
   "id": "27718996",
   "metadata": {},
   "source": [
    "### Awfera\n",
    "#### [Assignment_02 | Python Programming](https://github.com/arslanhmdai/Awfera-Python-Programming/tree/main/Assignments/Assignment_02)\n",
    "#### Name: Muhammad Arslan (**arslanhmdai**)\n"
   ]
  },
  {
   "cell_type": "markdown",
   "id": "49ece189",
   "metadata": {},
   "source": [
    "Question 1: Variables and Data Types\n",
    "\n",
    "Problem: Write a Python program that:\n",
    "1. Accepts a string, an integer, a float, and a boolean from the user.\n",
    "2. Initializes variables for each type, and prints them out.\n",
    "3. Convert the string to uppercase and print it.\n",
    "4. Check if the integer is even or odd and print the result.\n",
    "5. Multiply the float by 2 and print the result."
   ]
  },
  {
   "cell_type": "code",
   "execution_count": 8,
   "id": "f864bc65",
   "metadata": {},
   "outputs": [
    {
     "name": "stdout",
     "output_type": "stream",
     "text": [
      "User input: 66 has a type: <class 'str'>.\n"
     ]
    }
   ],
   "source": [
    "user_input = input(\"Write only a string / integer / float / boolean\")\n",
    "print(f\"User input: {user_input} has a type: {type(user_input)}.\")"
   ]
  },
  {
   "cell_type": "code",
   "execution_count": 11,
   "id": "0892dcb6",
   "metadata": {},
   "outputs": [
    {
     "name": "stdout",
     "output_type": "stream",
     "text": [
      "Uppercase of String: GOOGLE \n"
     ]
    }
   ],
   "source": [
    "user_input = str(input(\"Write a string: \"))\n",
    "if isinstance(user_input, str):\n",
    "    print(\"Uppercase of String:\", user_input.upper())"
   ]
  },
  {
   "cell_type": "code",
   "execution_count": 10,
   "id": "62e4d8fe",
   "metadata": {},
   "outputs": [
    {
     "name": "stdout",
     "output_type": "stream",
     "text": [
      "User Input 872598 is Even.\n"
     ]
    }
   ],
   "source": [
    "user_input = int(input(\"Write an integer: \"))\n",
    "if user_input %2==0:\n",
    "    print(f\"User Input {user_input} is Even.\")\n",
    "else:\n",
    "    print(f\"User Input {user_input} is Odd.\")"
   ]
  },
  {
   "cell_type": "code",
   "execution_count": 13,
   "id": "eb3d37c0",
   "metadata": {},
   "outputs": [
    {
     "name": "stdout",
     "output_type": "stream",
     "text": [
      "User input 6.6 is a <class 'float'>\n"
     ]
    }
   ],
   "source": [
    "user_input = float(input(\"Input a float: \"))\n",
    "if isinstance(user_input, float):\n",
    "    user_input *= 2\n",
    "    print(f\"User input {user_input} is a {type(user_input)}\")"
   ]
  },
  {
   "cell_type": "markdown",
   "id": "77e697fb",
   "metadata": {},
   "source": [
    "Question 2: Operators\n",
    "\n",
    "Problem: Write a Python program that:\n",
    "1. Accepts two numbers as input from the user.\n",
    "2. Performs and prints the result of all the arithmetic operations(addition, subtraction,\n",
    "multiplication, division, modulus, flow division) between these two numbers.\n",
    "3. Use comparison operators to check if the first number is greater than the second, and if they\n",
    "are equal.\n",
    "4. Use logical operatorsto combine two conditions (e.g., the first number is greater than the\n",
    "second, and the second number is less than 10)."
   ]
  },
  {
   "cell_type": "code",
   "execution_count": 17,
   "id": "5c511f17",
   "metadata": {},
   "outputs": [
    {
     "name": "stdout",
     "output_type": "stream",
     "text": [
      "Addition:  501\n",
      "Subtraction:  -411\n",
      "Multiplication:  20520\n",
      "Division:  0.09868421052631579\n",
      "Modulus:  45\n",
      "Floor Division:  0\n"
     ]
    }
   ],
   "source": [
    "input_1 = int(input(\"Write your first input: \"))\n",
    "input_2 = int(input(\"Write your second input: \"))\n",
    "\n",
    "addition = input_1 + input_2\n",
    "print(\"Addition: \", addition)\n",
    "\n",
    "subtraction = input_1 - input_2\n",
    "print(\"Subtraction: \", subtraction)\n",
    "\n",
    "multiplication = input_1 * input_2\n",
    "print(\"Multiplication: \", multiplication)\n",
    "\n",
    "division = input_1 / input_2\n",
    "print(\"Division: \", division)\n",
    "\n",
    "modulus = input_1 % input_2\n",
    "print(\"Modulus: \", modulus)\n",
    "\n",
    "floor_division = input_1//input_2\n",
    "print(\"Floor Division: \", floor_division)"
   ]
  },
  {
   "cell_type": "code",
   "execution_count": 19,
   "id": "4a952a4a",
   "metadata": {},
   "outputs": [
    {
     "name": "stdout",
     "output_type": "stream",
     "text": [
      "Second number is greater than first number.\n"
     ]
    }
   ],
   "source": [
    "input_1 = int(input(\"Write your first input: \"))\n",
    "input_2 = int(input(\"Write your second input: \"))\n",
    "\n",
    "if input_1 > input_2:\n",
    "    print(\"First number is greater than the second number.\")\n",
    "elif input_1 < input_2:\n",
    "    print(\"Second number is greater than first number.\")\n",
    "elif input_1 == input_2:\n",
    "    print(\"First number is equa to the second one.\")\n",
    "else:\n",
    "    print(\"Error!\")"
   ]
  },
  {
   "cell_type": "code",
   "execution_count": null,
   "id": "9ab276a8",
   "metadata": {},
   "outputs": [
    {
     "name": "stdout",
     "output_type": "stream",
     "text": [
      "The first number is greater than the second, and the second number is less than 10\n"
     ]
    }
   ],
   "source": [
    "input_1 = int(input(\"Write your first input: \"))\n",
    "input_2 = int(input(\"Write your second input: \"))\n",
    "\n",
    "if input_1 > input_2 and input_2 < 10:\n",
    "    print(\"The first number is greater than the second, and the second number is less than 10\")\n",
    "else:\n",
    "    print(\"Condition donot met.\")"
   ]
  },
  {
   "cell_type": "markdown",
   "id": "0cbeadb6",
   "metadata": {},
   "source": [
    "Question 3: Loops Problem:\n",
    "\n",
    "Problem: Write a Python program that:\n",
    "1. Accepts a list of integers from the user.\n",
    "2. Loops through the list and prints out each number.\n",
    "3. If a number is greater than 10, skip it using the continue statement.\n",
    "4. Stop the loop if the number is 20 using the break statement.\n",
    "5. After the loop ends, print a message that the loop ended naturally."
   ]
  },
  {
   "cell_type": "code",
   "execution_count": 33,
   "id": "d27d5190",
   "metadata": {},
   "outputs": [
    {
     "name": "stdout",
     "output_type": "stream",
     "text": [
      "2\n",
      "5\n",
      "8\n",
      "Loop ended naturally.\n"
     ]
    }
   ],
   "source": [
    "input_list = eval(input(\"Enter a list of numbers (e.g., [4, 2, 5, 2]): \"))\n",
    "for number in input_list:\n",
    "    if number > 10:\n",
    "        continue\n",
    "    elif number == 20:\n",
    "        break\n",
    "    print(number)\n",
    "\n",
    "print(\"Loop ended naturally.\")"
   ]
  }
 ],
 "metadata": {
  "kernelspec": {
   "display_name": "awf",
   "language": "python",
   "name": "python3"
  },
  "language_info": {
   "codemirror_mode": {
    "name": "ipython",
    "version": 3
   },
   "file_extension": ".py",
   "mimetype": "text/x-python",
   "name": "python",
   "nbconvert_exporter": "python",
   "pygments_lexer": "ipython3",
   "version": "3.10.16"
  }
 },
 "nbformat": 4,
 "nbformat_minor": 5
}
