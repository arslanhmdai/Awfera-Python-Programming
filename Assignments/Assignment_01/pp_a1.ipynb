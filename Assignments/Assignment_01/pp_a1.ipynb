{
 "cells": [
  {
   "cell_type": "markdown",
   "id": "27718996",
   "metadata": {},
   "source": [
    "### Awfera\n",
    "#### [Assignment_01 | Python Programming](https://github.com/arslanhmdai/Awfera-Python-Programming/tree/main/Assignments/Assignment_01)\n",
    "#### Name: Muhammad Arslan (**arslanhmdai**)\n"
   ]
  },
  {
   "cell_type": "markdown",
   "id": "49ece189",
   "metadata": {},
   "source": [
    "Question 1\n",
    "Write a Python program that takes a string as input from the user and performs the following two functions:\n",
    "1. The string in reverse order\n",
    "2. The number of vowels in the string solution"
   ]
  },
  {
   "cell_type": "code",
   "execution_count": 37,
   "id": "ec0568c5",
   "metadata": {},
   "outputs": [
    {
     "name": "stdout",
     "output_type": "stream",
     "text": [
      "Reverse String: ,6,3,3\n",
      "Total vowels in '3,3,6,' are '0'.\n"
     ]
    }
   ],
   "source": [
    "# Asking user for a string as input...\n",
    "user_string = str(input(\"Enter Something:\"))\n",
    "\n",
    "# 1. Reversing sting\n",
    "print(f\"Reverse String: {user_string[::-1]}\")\n",
    "\n",
    "# 2. Number of vowels count\n",
    "vowels = [\"a\", \"e\", \"i\", \"o\", \"u\"]\n",
    "count = 0 \n",
    "\n",
    "for char in user_string:\n",
    "    for vowel in vowels:\n",
    "        if char == vowel:\n",
    "            count +=1\n",
    "print(f\"Total vowels in '{user_string}' are '{count}'.\")"
   ]
  },
  {
   "cell_type": "markdown",
   "id": "77e697fb",
   "metadata": {},
   "source": [
    "Question 2\n",
    "Create a Python program to check if a user-provided number is even or odd.\n",
    "\n",
    "The program should use the modulo operator(%) to determine the remainder when the number is divided by 2.\n",
    "\n",
    "If the remainder is 0, the number is even; otherwise, it is odd."
   ]
  },
  {
   "cell_type": "code",
   "execution_count": 41,
   "id": "a53b18e9",
   "metadata": {},
   "outputs": [
    {
     "name": "stdout",
     "output_type": "stream",
     "text": [
      "The Number '567567' is an 'Odd' number.\n"
     ]
    }
   ],
   "source": [
    "# Asking user for an integer as an input... \n",
    "user_number = int(input(\"Enter an integer: \"))\n",
    "\n",
    "if user_number % 2 == 0:\n",
    "    print(f\"The Number '{user_number}' is an 'Even' number.\")\n",
    "else:\n",
    "    print(f\"The Number '{user_number}' is an 'Odd' number.\")"
   ]
  },
  {
   "cell_type": "markdown",
   "id": "0cbeadb6",
   "metadata": {},
   "source": [
    "Question 3\n",
    "Virtual Environment Application Problem Statement:\n",
    "Create a Python program that:\n",
    "\n",
    "1. Takes a list of integers as input.\n",
    "2. Creates a new virtual environment called sortenv.\n",
    "3. Installs a package (such as numpy) in the virtual environment.\n",
    "4. Sorts the list using numpy.sort().\n",
    "5. Prints the sorted list."
   ]
  },
  {
   "cell_type": "markdown",
   "id": "ab6553bb",
   "metadata": {},
   "source": [
    "![Virtual Environment Setup](img/sortenv.png)"
   ]
  },
  {
   "cell_type": "markdown",
   "id": "a723a24d",
   "metadata": {},
   "source": [
    "![Installing Packages](img/numpy.png)"
   ]
  },
  {
   "cell_type": "code",
   "execution_count": 48,
   "id": "605d9e6d",
   "metadata": {},
   "outputs": [
    {
     "name": "stdout",
     "output_type": "stream",
     "text": [
      "Sorted List:  [ 3  4  5 62]\n"
     ]
    }
   ],
   "source": [
    "import numpy\n",
    "user_input = input(\"Enter a list: e.g., 3, 2, 1, 5, 6\")\n",
    "\n",
    "# Didn't understand but took help form ChatGPT\n",
    "user_list = [int(x.strip()) for x in user_input.split(\",\")]\n",
    "\n",
    "sorted_list = numpy.sort(user_list)\n",
    "print(\"Sorted List: \", sorted_list)"
   ]
  }
 ],
 "metadata": {
  "kernelspec": {
   "display_name": "sortenv",
   "language": "python",
   "name": "python3"
  },
  "language_info": {
   "codemirror_mode": {
    "name": "ipython",
    "version": 3
   },
   "file_extension": ".py",
   "mimetype": "text/x-python",
   "name": "python",
   "nbconvert_exporter": "python",
   "pygments_lexer": "ipython3",
   "version": "3.10.16"
  }
 },
 "nbformat": 4,
 "nbformat_minor": 5
}
